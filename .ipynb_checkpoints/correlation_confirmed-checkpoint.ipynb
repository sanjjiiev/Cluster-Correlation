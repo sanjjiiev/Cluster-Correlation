{
 "cells": [
  {
   "cell_type": "code",
   "execution_count": 7,
   "id": "163f7cd8-bb2d-423f-8fe4-093445c7decb",
   "metadata": {},
   "outputs": [
    {
     "name": "stdout",
     "output_type": "stream",
     "text": [
      "Merged dataset:\n",
      "   ID  Age  Cluster_age  Income  SpendingScore  Cluster_income\n",
      "0   1   22            0   15000             25               0\n",
      "1   2   24            0   15500             28               0\n",
      "2   3   25            0   16000             26               0\n",
      "3   4   44            1   60000             70               1\n",
      "4   5   45            1   62000             68               1\n",
      "\n",
      "Crosstab between clusters:\n",
      "Cluster_income  0  1  2\n",
      "Cluster_age            \n",
      "0               3  0  0\n",
      "1               0  3  0\n",
      "2               0  0  3\n"
     ]
    },
    {
     "data": {
      "image/png": "[encoded data removed]",
      "text/plain": [
       "<Figure size 640x480 with 2 Axes>"
      ]
     },
     "metadata": {},
     "output_type": "display_data"
    },
    {
     "name": "stdout",
     "output_type": "stream",
     "text": [
      "\n",
      "Cluster Correlation Metrics:\n",
      "Cramér's V: 1.000\n",
      "Normalized Mutual Information (NMI): 1.000\n",
      "Adjusted Rand Index (ARI): 1.000\n",
      "\n",
      "Inference:\n",
      "- Cramér's V indicates a strong association between Age clusters and Income+Spending clusters.\n",
      "- NMI shows a high mutual dependence between the clusters.\n",
      "- ARI indicates strong agreement between the clusters.\n"
     ]
    }
   ],
   "source": [
    "import pandas as pd\n",
    "from sklearn.metrics import normalized_mutual_info_score, adjusted_rand_score\n",
    "import numpy as np\n",
    "import seaborn as sns\n",
    "import matplotlib.pyplot as plt\n",
    "\n",
    "# --- Load the datasets (Excel format) ---\n",
    "df_age = pd.read_excel(\"age_clusters.xlsx\")\n",
    "df_income = pd.read_excel(\"income_spending_clusters.xlsx\")\n",
    "\n",
    "# Merge them on ID\n",
    "df_merged = pd.merge(df_age, df_income, on=\"ID\", suffixes=(\"_age\", \"_income\"))\n",
    "\n",
    "print(\"Merged dataset:\")\n",
    "print(df_merged.head())\n",
    "\n",
    "# Crosstab\n",
    "crosstab = pd.crosstab(df_merged['Cluster_age'], df_merged['Cluster_income'])\n",
    "print(\"\\nCrosstab between clusters:\")\n",
    "print(crosstab)\n",
    "\n",
    "# Heatmap\n",
    "sns.heatmap(crosstab, annot=True, fmt=\"d\", cmap=\"Blues\")\n",
    "plt.title(\"CSV (Age) vs CSV (Income+Spending) Cluster Crosstab\")\n",
    "plt.show()\n",
    "\n",
    "# --- Correlation Metrics ---\n",
    "\n",
    "# Cramér's V function\n",
    "from scipy.stats import chi2_contingency\n",
    "\n",
    "def cramers_v(x, y):\n",
    "    confusion_matrix = pd.crosstab(x, y)\n",
    "    chi2, _, _, _ = chi2_contingency(confusion_matrix)\n",
    "    n = confusion_matrix.sum().sum()\n",
    "    phi2 = chi2 / n\n",
    "    r, k = confusion_matrix.shape\n",
    "    phi2corr = max(0, phi2 - ((k-1)*(r-1))/(n-1))\n",
    "    rcorr = r - ((r-1)**2)/(n-1)\n",
    "    kcorr = k - ((k-1)**2)/(n-1)\n",
    "    return np.sqrt(phi2corr / min((kcorr-1), (rcorr-1)))\n",
    "    \n",
    "# Calculate metrics\n",
    "cramers_v_score = cramers_v(df_merged['Cluster_age'], df_merged['Cluster_income'])\n",
    "nmi = normalized_mutual_info_score(df_merged['Cluster_age'], df_merged['Cluster_income'])\n",
    "ari = adjusted_rand_score(df_merged['Cluster_age'], df_merged['Cluster_income'])\n",
    "\n",
    "print(\"\\nCluster Correlation Metrics:\")\n",
    "print(f\"Cramér's V: {cramers_v_score:.3f}\")\n",
    "print(f\"Normalized Mutual Information (NMI): {nmi:.3f}\")\n",
    "print(f\"Adjusted Rand Index (ARI): {ari:.3f}\")\n",
    "\n",
    "# --- Inference ---\n",
    "print(\"\\nInference:\")\n",
    "# Cramér's V interpretation\n",
    "if cramers_v_score < 0.1:\n",
    "    print(\"- Cramér's V indicates very weak association between Age clusters and Income+Spending clusters.\")\n",
    "elif cramers_v_score < 0.3:\n",
    "    print(\"- Cramér's V indicates a weak association between Age clusters and Income+Spending clusters.\")\n",
    "elif cramers_v_score < 0.5:\n",
    "    print(\"- Cramér's V indicates a moderate association between Age clusters and Income+Spending clusters.\")\n",
    "else:\n",
    "    print(\"- Cramér's V indicates a strong association between Age clusters and Income+Spending clusters.\")\n",
    "\n",
    "# NMI interpretation\n",
    "if nmi < 0.1:\n",
    "    print(\"- NMI shows almost no mutual information between the clusters.\")\n",
    "elif nmi < 0.5:\n",
    "    print(\"- NMI shows some mutual information between the clusters.\")\n",
    "else:\n",
    "    print(\"- NMI shows a high mutual dependence between the clusters.\")\n",
    "\n",
    "# ARI interpretation\n",
    "if ari < 0:\n",
    "    print(\"- ARI indicates the clustering agreement is worse than random chance.\")\n",
    "elif ari < 0.5:\n",
    "    print(\"- ARI indicates low agreement between the clusters.\")\n",
    "elif ari < 0.8:\n",
    "    print(\"- ARI indicates moderate agreement between the clusters.\")\n",
    "else:\n",
    "    print(\"- ARI indicates strong agreement between the clusters.\")\n"
   ]
  },
  {
   "cell_type": "code",
   "execution_count": null,
   "id": "51be6a89-3694-4e3a-a5c5-bd96915c2aa3",
   "metadata": {},
   "outputs": [],
   "source": []
  }
 ],
 "metadata": {
  "kernelspec": {
   "display_name": "Python 3 (ipykernel)",
   "language": "python",
   "name": "python3"
  },
  "language_info": {
   "codemirror_mode": {
    "name": "ipython",
    "version": 3
   },
   "file_extension": ".py",
   "mimetype": "text/x-python",
   "name": "python",
   "nbconvert_exporter": "python",
   "pygments_lexer": "ipython3",
   "version": "3.13.5"
  }
 },
 "nbformat": 4,
 "nbformat_minor": 5
}
